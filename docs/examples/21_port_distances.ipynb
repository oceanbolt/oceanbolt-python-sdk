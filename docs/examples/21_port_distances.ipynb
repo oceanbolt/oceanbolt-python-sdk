{
 "cells": [
  {
   "cell_type": "markdown",
   "metadata": {},
   "source": [
    "## Oceanbolt Python SDK Lesson 6: Port Distances at Scale\n",
    "\n",
    "For certain maritime analyses, you will require a distance parameter. E.g. to calculate voyage times or estimate bunker consumption. It is often a tedious process to access many port to port distances or calculating the distance from a current position of a vessel to a port. We have made this easy by exposing our proprietary Oceanbolt Port Distance calculator. \n",
    "\n",
    "In this lesson, we will demonstrate how. This is Lesson 6 in our Python learning series. You can find past lessons on our blog: https://www.oceanbolt.com/blog/. You can find the full documentation on our distance calculator here: https://python-sdk.oceanbolt.com/distance_v3/distance.html"
   ]
  },
  {
   "cell_type": "code",
   "execution_count": 1,
   "metadata": {},
   "outputs": [],
   "source": [
    "# Import the relevant libraries\n",
    "\n",
    "from oceanbolt.sdk.client import APIClient\n",
    "from oceanbolt.sdk.distance import DistanceCalculator\n",
    "import pandas as pd"
   ]
  },
  {
   "cell_type": "code",
   "execution_count": 2,
   "metadata": {},
   "outputs": [],
   "source": [
    "# Create the base API client using your token. Token can be created in the Oceanbolt App (app.oceanbolt.com)\n",
    "base_client = APIClient(\"<token>\")"
   ]
  },
  {
   "cell_type": "markdown",
   "metadata": {},
   "source": [
    "### Port to Port Distance\n",
    "You can use the API to get simple port to port distances. You also have the option to include relevant way points for bunker stops etc."
   ]
  },
  {
   "cell_type": "code",
   "execution_count": 5,
   "metadata": {},
   "outputs": [
    {
     "name": "stdout",
     "output_type": "stream",
     "text": [
      "There are 11211 nautical miles from Santos to Qingdao\n"
     ]
    }
   ],
   "source": [
    "# Connect to the relevant Oceanbolt data endpoints using the base client object, ie: Distance\n",
    "distance = DistanceCalculator(base_client).distance(\n",
    "    locations=[\n",
    "        {\"unlocode\": \"BRSSZ\"},\n",
    "        {\"unlocode\": \"CNQDG\"},\n",
    "    ]\n",
    ")\n",
    "print(\"There are\",round(distance),\"nautical miles from Santos to Qingdao\")"
   ]
  },
  {
   "cell_type": "markdown",
   "metadata": {},
   "source": [
    "### Vessel to Port Distance\n",
    "Say you wanted instead to find the remaining distance from a particular vessel to a port. \n",
    "\n",
    "As an example, you can find the distance from the vessel MAGIC VELA (IMO: 9473327) to Santos."
   ]
  },
  {
   "cell_type": "code",
   "execution_count": 9,
   "metadata": {},
   "outputs": [
    {
     "name": "stdout",
     "output_type": "stream",
     "text": [
      "There are 545 nautical miles from MAGIC VELA to Santos\n"
     ]
    }
   ],
   "source": [
    "distance = DistanceCalculator(base_client).distance(\n",
    "    locations=[\n",
    "        {\"imo\": 9473327},\n",
    "        {\"unlocode\": \"BRSSZ\"},\n",
    "    ]\n",
    ")\n",
    "print(\"There are\",round(distance),\"nautical miles from MAGIC VELA to Santos\")"
   ]
  },
  {
   "attachments": {},
   "cell_type": "markdown",
   "metadata": {},
   "source": [
    "This is what the query in our dashboard would look like.\n",
    "\n",
    "<img src=\"santos_to_9473327.png\" width=\"500\" align=\"center\">"
   ]
  },
  {
   "cell_type": "markdown",
   "metadata": {},
   "source": [
    "### Multiple Ports to Ports\n",
    "If you have ever had to calculate the distance from multiple ports to multiple ports, you know how tedious this process can be. With our SDK, the process is easy. Simply create a csv file containing all the pairs you want to calculate and process it with the SDK. You can find the steps below. The example shows distances from Santos to 8 different Chinese ports."
   ]
  },
  {
   "cell_type": "code",
   "execution_count": 28,
   "metadata": {
    "scrolled": false
   },
   "outputs": [
    {
     "data": {
      "text/html": [
       "<div>\n",
       "<style scoped>\n",
       "    .dataframe tbody tr th:only-of-type {\n",
       "        vertical-align: middle;\n",
       "    }\n",
       "\n",
       "    .dataframe tbody tr th {\n",
       "        vertical-align: top;\n",
       "    }\n",
       "\n",
       "    .dataframe thead th {\n",
       "        text-align: right;\n",
       "    }\n",
       "</style>\n",
       "<table border=\"1\" class=\"dataframe\">\n",
       "  <thead>\n",
       "    <tr style=\"text-align: right;\">\n",
       "      <th></th>\n",
       "      <th>loadport</th>\n",
       "      <th>disport</th>\n",
       "    </tr>\n",
       "  </thead>\n",
       "  <tbody>\n",
       "    <tr>\n",
       "      <th>0</th>\n",
       "      <td>BRSSZ</td>\n",
       "      <td>CNQDG</td>\n",
       "    </tr>\n",
       "    <tr>\n",
       "      <th>1</th>\n",
       "      <td>BRSSZ</td>\n",
       "      <td>CNCFD</td>\n",
       "    </tr>\n",
       "    <tr>\n",
       "      <th>2</th>\n",
       "      <td>BRSSZ</td>\n",
       "      <td>CNJTG</td>\n",
       "    </tr>\n",
       "    <tr>\n",
       "      <th>3</th>\n",
       "      <td>BRSSZ</td>\n",
       "      <td>CNSGH</td>\n",
       "    </tr>\n",
       "    <tr>\n",
       "      <th>4</th>\n",
       "      <td>BRSSZ</td>\n",
       "      <td>CNFCE</td>\n",
       "    </tr>\n",
       "  </tbody>\n",
       "</table>\n",
       "</div>"
      ],
      "text/plain": [
       "  loadport disport\n",
       "0    BRSSZ   CNQDG\n",
       "1    BRSSZ   CNCFD\n",
       "2    BRSSZ   CNJTG\n",
       "3    BRSSZ   CNSGH\n",
       "4    BRSSZ   CNFCE"
      ]
     },
     "execution_count": 28,
     "metadata": {},
     "output_type": "execute_result"
    }
   ],
   "source": [
    "# Load CSV into dataframe for easy manipulation\n",
    "df = pd.read_csv('.../Port_Pairs.csv') #update file path\n",
    "df"
   ]
  },
  {
   "cell_type": "code",
   "execution_count": 29,
   "metadata": {},
   "outputs": [
    {
     "data": {
      "text/plain": [
       "[11210.651377854478,\n",
       " 11494.969299168151,\n",
       " 11481.522713688377,\n",
       " 10924.825628418632,\n",
       " 11235.679863256497]"
      ]
     },
     "execution_count": 29,
     "metadata": {},
     "output_type": "execute_result"
    }
   ],
   "source": [
    "# Loop to add distances into dataframe\n",
    "port_distances = []\n",
    "\n",
    "for i in range(len(df['loadport'])):\n",
    "    distance = DistanceCalculator(base_client).distance(\n",
    "        locations=[\n",
    "            {\"unlocode\": df['loadport'][i]},\n",
    "            {\"unlocode\": df['disport'][i]},\n",
    "        ]\n",
    "    )\n",
    "    port_distances.append(distance)\n",
    "\n",
    "port_distances"
   ]
  },
  {
   "cell_type": "code",
   "execution_count": 30,
   "metadata": {},
   "outputs": [],
   "source": [
    "# Appending new column to DataFrame\n",
    "df2 = pd.DataFrame(port_distances)\n",
    "df['Distance'] = df2"
   ]
  },
  {
   "cell_type": "code",
   "execution_count": 17,
   "metadata": {},
   "outputs": [],
   "source": [
    "# Export to CSV\n",
    "df.to_csv(path_or_buf='<path_to_file>') #update file path"
   ]
  }
 ],
 "metadata": {
  "kernelspec": {
   "display_name": "Python 3",
   "language": "python",
   "name": "python3"
  },
  "language_info": {
   "codemirror_mode": {
    "name": "ipython",
    "version": 3
   },
   "file_extension": ".py",
   "mimetype": "text/x-python",
   "name": "python",
   "nbconvert_exporter": "python",
   "pygments_lexer": "ipython3",
   "version": "3.9.5"
  }
 },
 "nbformat": 4,
 "nbformat_minor": 4
}