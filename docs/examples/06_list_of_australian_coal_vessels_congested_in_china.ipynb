{
 "cells": [
  {
   "cell_type": "markdown",
   "metadata": {},
   "source": [
    "## Oceanbolt Python SDK - Australian Coal Vessels Congested in China\n",
    "\n",
    "Example of Oceanbolt's Python SDK to answer the question - \"Which vessels are waiting in Chinese waters laden with Australian coal?\" "
   ]
  },
  {
   "cell_type": "code",
   "execution_count": 4,
   "metadata": {},
   "outputs": [],
   "source": [
    "# Import the relevant libraries\n",
    "# In order to get a list of congested vessels, we use the CongestionVessels client (https://python-sdk.oceanbolt.com/congestion_v3/congested_vessels.html)\n",
    "\n",
    "from oceanbolt.sdk.client import APIClient\n",
    "from oceanbolt.sdk.data.congestion import CongestionVessels"
   ]
  },
  {
   "cell_type": "code",
   "execution_count": 7,
   "metadata": {},
   "outputs": [],
   "source": [
    "# Create the base API client using your token. Tokens can be created in the Oceanbolt App (app.oceanbolt.com)\n",
    "base_client = APIClient(\"<token>\")"
   ]
  },
  {
   "cell_type": "code",
   "execution_count": 8,
   "metadata": {},
   "outputs": [],
   "source": [
    "# Connect to the relevant Oceanbolt data endpoints using the base client object, ie: CongestionVessels\n",
    "congestion_client = CongestionVessels(base_client)"
   ]
  },
  {
   "cell_type": "code",
   "execution_count": 9,
   "metadata": {},
   "outputs": [
    {
     "data": {
      "text/html": [
       "<div>\n",
       "<style scoped>\n",
       "    .dataframe tbody tr th:only-of-type {\n",
       "        vertical-align: middle;\n",
       "    }\n",
       "\n",
       "    .dataframe tbody tr th {\n",
       "        vertical-align: top;\n",
       "    }\n",
       "\n",
       "    .dataframe thead th {\n",
       "        text-align: right;\n",
       "    }\n",
       "</style>\n",
       "<table border=\"1\" class=\"dataframe\">\n",
       "  <thead>\n",
       "    <tr style=\"text-align: right;\">\n",
       "      <th></th>\n",
       "      <th>imo</th>\n",
       "      <th>vessel_name</th>\n",
       "      <th>segment</th>\n",
       "      <th>sub_segment</th>\n",
       "      <th>dwt</th>\n",
       "      <th>current_port_id</th>\n",
       "      <th>current_port_name</th>\n",
       "      <th>current_country</th>\n",
       "      <th>current_country_code</th>\n",
       "      <th>arrived_at</th>\n",
       "      <th>...</th>\n",
       "      <th>last_load_country</th>\n",
       "      <th>last_load_country_code</th>\n",
       "      <th>last_load_port_name</th>\n",
       "      <th>last_load_berth_name</th>\n",
       "      <th>last_port_departed_at</th>\n",
       "      <th>last_load_port_id</th>\n",
       "      <th>commodity_group</th>\n",
       "      <th>commodity</th>\n",
       "      <th>volume</th>\n",
       "      <th>laden_status</th>\n",
       "    </tr>\n",
       "  </thead>\n",
       "  <tbody>\n",
       "    <tr>\n",
       "      <th>0</th>\n",
       "      <td>9789843</td>\n",
       "      <td>TAI KEYSTONE</td>\n",
       "      <td>Panamax</td>\n",
       "      <td>Kamsarmax (80-90k)</td>\n",
       "      <td>83870.0</td>\n",
       "      <td></td>\n",
       "      <td>Jingtang</td>\n",
       "      <td>China</td>\n",
       "      <td>CN</td>\n",
       "      <td>2020-06-10T05:55:46Z</td>\n",
       "      <td>...</td>\n",
       "      <td>Australia</td>\n",
       "      <td>AU</td>\n",
       "      <td>Abbot Point</td>\n",
       "      <td>Abbot Point Coal Berth</td>\n",
       "      <td>2020-05-25T21:59:44Z</td>\n",
       "      <td>0</td>\n",
       "      <td>Coal</td>\n",
       "      <td>Coal (unclassified)</td>\n",
       "      <td>82100.0</td>\n",
       "      <td></td>\n",
       "    </tr>\n",
       "    <tr>\n",
       "      <th>1</th>\n",
       "      <td>9615171</td>\n",
       "      <td>CMB MEDOC</td>\n",
       "      <td>Panamax</td>\n",
       "      <td>Post-Panamax (90-110k)</td>\n",
       "      <td>95746.0</td>\n",
       "      <td></td>\n",
       "      <td>Caofeidian</td>\n",
       "      <td>China</td>\n",
       "      <td>CN</td>\n",
       "      <td>2020-06-20T08:45:10Z</td>\n",
       "      <td>...</td>\n",
       "      <td>Australia</td>\n",
       "      <td>AU</td>\n",
       "      <td>Gladstone</td>\n",
       "      <td>Gladstone RG/Tanna Coal Berth</td>\n",
       "      <td>2020-06-05T11:54:40Z</td>\n",
       "      <td>0</td>\n",
       "      <td>Coal</td>\n",
       "      <td>Coking Coal</td>\n",
       "      <td>93800.0</td>\n",
       "      <td></td>\n",
       "    </tr>\n",
       "  </tbody>\n",
       "</table>\n",
       "<p>2 rows × 21 columns</p>\n",
       "</div>"
      ],
      "text/plain": [
       "       imo   vessel_name  segment             sub_segment      dwt  \\\n",
       "0  9789843  TAI KEYSTONE  Panamax      Kamsarmax (80-90k)  83870.0   \n",
       "1  9615171     CMB MEDOC  Panamax  Post-Panamax (90-110k)  95746.0   \n",
       "\n",
       "  current_port_id current_port_name current_country current_country_code  \\\n",
       "0                          Jingtang           China                   CN   \n",
       "1                        Caofeidian           China                   CN   \n",
       "\n",
       "             arrived_at  ...  last_load_country last_load_country_code  \\\n",
       "0  2020-06-10T05:55:46Z  ...          Australia                     AU   \n",
       "1  2020-06-20T08:45:10Z  ...          Australia                     AU   \n",
       "\n",
       "  last_load_port_name           last_load_berth_name last_port_departed_at  \\\n",
       "0         Abbot Point         Abbot Point Coal Berth  2020-05-25T21:59:44Z   \n",
       "1           Gladstone  Gladstone RG/Tanna Coal Berth  2020-06-05T11:54:40Z   \n",
       "\n",
       "  last_load_port_id  commodity_group            commodity   volume  \\\n",
       "0                 0             Coal  Coal (unclassified)  82100.0   \n",
       "1                 0             Coal          Coking Coal  93800.0   \n",
       "\n",
       "   laden_status  \n",
       "0                \n",
       "1                \n",
       "\n",
       "[2 rows x 21 columns]"
      ]
     },
     "execution_count": 9,
     "metadata": {},
     "output_type": "execute_result"
    }
   ],
   "source": [
    "# We apply filters to our query to get the list of Australian coal carrying vessels congested in China\n",
    "# A complete list of available filters can be found at https://python-sdk.oceanbolt.com/congestion_v3/congested_vessels.html#arguments\n",
    "\n",
    "df = congestion_client.get(\n",
    "   country_code=['CN'], #Specify country code for the congestion zone, CN for China\n",
    "    last_load_country_code=['AU'],  #Specify load country code, AU for Australia\n",
    "    commodity_group = ['coal'], #Specify commodity group\n",
    ")\n",
    "\n",
    "#Print 2 first rows of table\n",
    "df.head(2) "
   ]
  }
 ],
 "metadata": {
  "kernelspec": {
   "display_name": "Python 3",
   "language": "python",
   "name": "python3"
  },
  "language_info": {
   "codemirror_mode": {
    "name": "ipython",
    "version": 3
   },
   "file_extension": ".py",
   "mimetype": "text/x-python",
   "name": "python",
   "nbconvert_exporter": "python",
   "pygments_lexer": "ipython3",
   "version": "3.9.1"
  }
 },
 "nbformat": 4,
 "nbformat_minor": 4
}
