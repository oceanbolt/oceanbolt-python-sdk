{
 "cells": [
  {
   "cell_type": "markdown",
   "metadata": {},
   "source": [
    "## Oceanbolt Python SDK Lesson 2: Proportion of Unique Vessel Routes by Segment\n",
    "\n",
    "This is the second lesson in our learning series for the Oceanbolt Python SDK.\n",
    "\n",
    "In this example, we are investigating the proportion of vessels taking unique routes by segment in 2020, e.g. answering the question: \"What percentage of the VLOC fleet served unique trade lanes only in 2020?\". We define unique routes, or trade lanes as we refer to them at Oceanbolt, as the same pair of load port and discharge ports.\n",
    "\n",
    "You can find an article with more results from other segments: https://www.oceanbolt.com/blog/oceanbolt_python_sdk_unique_trade_lanes/"
   ]
  },
  {
   "cell_type": "code",
   "execution_count": 1,
   "metadata": {},
   "outputs": [],
   "source": [
    "# Import the relevant libraries\n",
    "# In order to get a timeseries of weekly export volumes, we use the TradeFlows client (https://python-sdk.oceanbolt.com/tradeflows_v3/tradeflows.html)\n",
    "\n",
    "from oceanbolt.sdk.client import APIClient\n",
    "from oceanbolt.sdk.data.trade_flows import TradeFlows\n",
    "from oceanbolt.sdk.data.entities import Segments\n",
    "from datetime import date\n",
    "import pandas as pd"
   ]
  },
  {
   "cell_type": "code",
   "execution_count": 2,
   "metadata": {},
   "outputs": [],
   "source": [
    "# Create the base API client using your token. Tokens can be created in the Oceanbolt App (app.oceanbolt.com)\n",
    "base_client = APIClient(\"<token>\")"
   ]
  },
  {
   "cell_type": "code",
   "execution_count": 3,
   "metadata": {},
   "outputs": [
    {
     "data": {
      "text/plain": [
       "0            shortsea\n",
       "1     small_handysize\n",
       "2     large_handysize\n",
       "3            handymax\n",
       "4            supramax\n",
       "5            ultramax\n",
       "6             panamax\n",
       "7           kamsarmax\n",
       "8        post_panamax\n",
       "9            babycape\n",
       "10           capesize\n",
       "11     large_capesize\n",
       "12               vloc\n",
       "Name: sub_segment_key, dtype: string"
      ]
     },
     "execution_count": 3,
     "metadata": {},
     "output_type": "execute_result"
    }
   ],
   "source": [
    "# We will be investigating all subsegments (ex. shortsea). The code example will only include the code for the VLOC fleet.\n",
    "\n",
    "df = Segments(base_client).get()\n",
    "df['sub_segment_key'] # Let's list the sub-segment keys to get the input for our request body."
   ]
  },
  {
   "cell_type": "code",
   "execution_count": 4,
   "metadata": {},
   "outputs": [],
   "source": [
    "# Connect to the relevant Oceanbolt data endpoints using the base client object, ie: TradeFlows\n",
    "trade_flow_client = TradeFlows(base_client)"
   ]
  },
  {
   "cell_type": "code",
   "execution_count": 5,
   "metadata": {},
   "outputs": [],
   "source": [
    "# We apply filters to our query to get a list of all 2020 voyages for the vloc fleet.\n",
    "# A complete list of available filters can be found at https://python-sdk.oceanbolt.com/tradeflows_v3/tradeflows.html#arguments\n",
    "\n",
    "df = trade_flow_client.get(\n",
    "    max_results = 20000, # Remember to include the max_results parameter to ensure that all results are capture. The default max_results is set to 10.\n",
    "    sub_segment=['vloc'],\n",
    "    start_date=date(2020, 1, 1), \n",
    "    end_date=date(2020, 12, 31),\n",
    ")"
   ]
  },
  {
   "cell_type": "code",
   "execution_count": 6,
   "metadata": {},
   "outputs": [],
   "source": [
    "# We generate our trade lanes (or routes) as a new column. \n",
    "df['trade_lane'] = df['load_port_name'] + ' --> ' + df['discharge_port_name']\n",
    "\n",
    "# Then sort away incomplete pairs.\n",
    "df = df[(df['load_port_id'].notnull()) & (df['discharge_port_id'].notnull())]"
   ]
  },
  {
   "cell_type": "code",
   "execution_count": 7,
   "metadata": {},
   "outputs": [],
   "source": [
    "# We count the number of unique trade lanes and total trade lanes by imo\n",
    "unique_tl_count = df.groupby('imo')['trade_lane'].nunique()\n",
    "all_tl_count = df.groupby('imo')['trade_lane'].count()\n",
    "\n",
    "# And then create data frames to capture the values.\n",
    "all_tl_count_df = pd.DataFrame(all_tl_count).rename(columns={'trade_lane': 'all trade lanes count'})\n",
    "unique_tl_count_df = pd.DataFrame(unique_tl_count).rename(columns={'trade_lane': 'unique trade lanes count'})"
   ]
  },
  {
   "cell_type": "code",
   "execution_count": 8,
   "metadata": {},
   "outputs": [
    {
     "data": {
      "image/png": "[encoded data removed]",
      "text/plain": [
       "<Figure size 360x360 with 1 Axes>"
      ]
     },
     "metadata": {
      "needs_background": "light"
     },
     "output_type": "display_data"
    }
   ],
   "source": [
    "# Let us plot the vessels in a scatter plot.\n",
    "\n",
    "tl_counts = pd.concat([all_tl_count_df, unique_tl_count_df], axis=1)\n",
    "tl_counts.plot(x='all trade lanes count', y='unique trade lanes count', title='Oceanbolt 2020 Unique Trade Lanes Versus All Trade Lanes', kind='scatter', figsize=(5,5));"
   ]
  },
  {
   "cell_type": "markdown",
   "metadata": {},
   "source": [
    "So certainly for the VLOC fleet, there are a large proportion of the vessels that have only taken unique routes, but let us quantify this metric: "
   ]
  },
  {
   "cell_type": "code",
   "execution_count": 14,
   "metadata": {},
   "outputs": [
    {
     "data": {
      "text/plain": [
       "0.45"
      ]
     },
     "execution_count": 14,
     "metadata": {},
     "output_type": "execute_result"
    }
   ],
   "source": [
    "tl_counts['proportion unique'] = tl_counts['unique trade lanes count'] / tl_counts['all trade lanes count']\n",
    "unique_only = tl_counts['proportion unique'][tl_counts['proportion unique'] == 1.0].count()\n",
    "fraction_unique_only = unique_only / tl_counts['proportion unique'].count()\n",
    "fraction_unique_only.round(2)"
   ]
  },
  {
   "cell_type": "markdown",
   "metadata": {},
   "source": [
    "We see that 45% of the VLOC fleet took only unique trade lanes (routes) in 2020. Arguably, this metric is rather crude and can be improved in several ways. Importantly, it does not take into account the total number of voyages by vessel, meaning that a new built vessel from Sep 2020 with only one voyage in 2020 will be counted as all unique. \n",
    "\n",
    "Cleaning this data further is outside of the scope of this lesson and we will leave it to the users to do this excercise.\n",
    "\n",
    "You might be wondering how this stacks up against the other sub-segments. Check out our blog post to find out: https://www.oceanbolt.com/blog/oceanbolt_python_sdk_unique_trade_lanes/"
   ]
  },
  {
   "cell_type": "code",
   "execution_count": 10,
   "metadata": {
    "scrolled": true
   },
   "outputs": [
    {
     "data": {
      "text/plain": [
       "imo\n",
       "9582245    0.25\n",
       "Name: proportion unique, dtype: float64"
      ]
     },
     "execution_count": 10,
     "metadata": {},
     "output_type": "execute_result"
    }
   ],
   "source": [
    "# If we want to know which vessels take unique trade lanes only  \n",
    "tl_counts['proportion unique'].sort_values().head(1)"
   ]
  },
  {
   "cell_type": "markdown",
   "metadata": {},
   "source": [
    "The vessel with imo 9582245, HYUNDAI DANGJIN, has a the lowest ratios unique trade lanes to total trade lanes. From this metric, we would expect that the vessel has been employed on fixed route. Surely, by investigating this vessel in the Oceanbolt Data Platform (https://app.oceanbolt.com/vessel-details?imo=9582245), we see that it has only been engaged in supplying Australian iron ore to Hyundai Steel's Pyeongtaek plant.      "
   ]
  }
 ],
 "metadata": {
  "kernelspec": {
   "display_name": "Python 3",
   "language": "python",
   "name": "python3"
  },
  "language_info": {
   "codemirror_mode": {
    "name": "ipython",
    "version": 3
   },
   "file_extension": ".py",
   "mimetype": "text/x-python",
   "name": "python",
   "nbconvert_exporter": "python",
   "pygments_lexer": "ipython3",
   "version": "3.9.2"
  }
 },
 "nbformat": 4,
 "nbformat_minor": 4
}
