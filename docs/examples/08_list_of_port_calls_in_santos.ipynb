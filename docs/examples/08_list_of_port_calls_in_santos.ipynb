{
 "cells": [
  {
   "cell_type": "markdown",
   "metadata": {},
   "source": [
    "## Oceanbolt Python SDK - List of Santos Port Calls\n",
    "\n",
    "Example of Oceanbolt's Python SDK to answer the question - \"Which vessels have called the port of Santos in the first six months of 2020?\" "
   ]
  },
  {
   "cell_type": "code",
   "execution_count": 7,
   "metadata": {},
   "outputs": [],
   "source": [
    "# Import the relevant libraries\n",
    "# In order to get a list of port calls, we use the PortCalls client (https://python-sdk.oceanbolt.com/portcalls_v3/port_calls.html)\n",
    "\n",
    "from oceanbolt.sdk.client import APIClient\n",
    "from oceanbolt.sdk.data.port_calls import PortCalls\n",
    "from datetime import date, timedelta, datetime"
   ]
  },
  {
   "cell_type": "code",
   "execution_count": 8,
   "metadata": {},
   "outputs": [],
   "source": [
    "# Create the base API client using your token. Tokens can be created in the Oceanbolt App (app.oceanbolt.com)\n",
    "base_client = APIClient(\"<token>\")"
   ]
  },
  {
   "cell_type": "code",
   "execution_count": 9,
   "metadata": {},
   "outputs": [],
   "source": [
    "# Connect to the relevant Oceanbolt data endpoints using the base client object, ie: PortCalls\n",
    "port_call_client = PortCalls(base_client)"
   ]
  },
  {
   "cell_type": "code",
   "execution_count": 10,
   "metadata": {},
   "outputs": [
    {
     "data": {
      "text/html": [
       "<div>\n",
       "<style scoped>\n",
       "    .dataframe tbody tr th:only-of-type {\n",
       "        vertical-align: middle;\n",
       "    }\n",
       "\n",
       "    .dataframe tbody tr th {\n",
       "        vertical-align: top;\n",
       "    }\n",
       "\n",
       "    .dataframe thead th {\n",
       "        text-align: right;\n",
       "    }\n",
       "</style>\n",
       "<table border=\"1\" class=\"dataframe\">\n",
       "  <thead>\n",
       "    <tr style=\"text-align: right;\">\n",
       "      <th></th>\n",
       "      <th>voyage_id</th>\n",
       "      <th>port_call_id</th>\n",
       "      <th>imo</th>\n",
       "      <th>vessel_name</th>\n",
       "      <th>port_id</th>\n",
       "      <th>port_name</th>\n",
       "      <th>segment</th>\n",
       "      <th>sub_segment</th>\n",
       "      <th>unlocode</th>\n",
       "      <th>berth_id</th>\n",
       "      <th>...</th>\n",
       "      <th>days_waiting</th>\n",
       "      <th>days_at_berth</th>\n",
       "      <th>country_code</th>\n",
       "      <th>operation</th>\n",
       "      <th>voyage_type</th>\n",
       "      <th>commodity</th>\n",
       "      <th>commodity_value</th>\n",
       "      <th>commodity_group</th>\n",
       "      <th>volume</th>\n",
       "      <th>port_visited</th>\n",
       "    </tr>\n",
       "  </thead>\n",
       "  <tbody>\n",
       "    <tr>\n",
       "      <th>0</th>\n",
       "      <td>e566c3a65e735beecb7bdde383c1ac3d</td>\n",
       "      <td>71f2073924444ee4173b42ae4aafef01</td>\n",
       "      <td>9284908</td>\n",
       "      <td>CHANGJIANGCHUYUN</td>\n",
       "      <td>248</td>\n",
       "      <td>Santos</td>\n",
       "      <td>Panamax</td>\n",
       "      <td>Panamax (68-80k)</td>\n",
       "      <td>BRSSZ</td>\n",
       "      <td>6184.0</td>\n",
       "      <td>...</td>\n",
       "      <td>8.66</td>\n",
       "      <td>2.12</td>\n",
       "      <td>BR</td>\n",
       "      <td>Load</td>\n",
       "      <td>Part of Laden Leg</td>\n",
       "      <td>Raw Sugar</td>\n",
       "      <td>sugar_raw</td>\n",
       "      <td>Agribulk</td>\n",
       "      <td>74800.0</td>\n",
       "      <td>True</td>\n",
       "    </tr>\n",
       "    <tr>\n",
       "      <th>1</th>\n",
       "      <td>85c9a86817a80c430e6973ee8a9a404a</td>\n",
       "      <td>befec309716c28cbd22f2d2c98bcbbf0</td>\n",
       "      <td>9658953</td>\n",
       "      <td>SAGA FANTASY</td>\n",
       "      <td>248</td>\n",
       "      <td>Santos</td>\n",
       "      <td>Supramax</td>\n",
       "      <td>Supramax (50-60k)</td>\n",
       "      <td>BRSSZ</td>\n",
       "      <td>6181.0</td>\n",
       "      <td>...</td>\n",
       "      <td>0.37</td>\n",
       "      <td>2.95</td>\n",
       "      <td>BR</td>\n",
       "      <td>Load</td>\n",
       "      <td>Part of Laden Leg</td>\n",
       "      <td>Corn</td>\n",
       "      <td>corn</td>\n",
       "      <td>Grains</td>\n",
       "      <td>47000.0</td>\n",
       "      <td>True</td>\n",
       "    </tr>\n",
       "  </tbody>\n",
       "</table>\n",
       "<p>2 rows × 28 columns</p>\n",
       "</div>"
      ],
      "text/plain": [
       "                          voyage_id                      port_call_id  \\\n",
       "0  e566c3a65e735beecb7bdde383c1ac3d  71f2073924444ee4173b42ae4aafef01   \n",
       "1  85c9a86817a80c430e6973ee8a9a404a  befec309716c28cbd22f2d2c98bcbbf0   \n",
       "\n",
       "       imo       vessel_name  port_id port_name   segment        sub_segment  \\\n",
       "0  9284908  CHANGJIANGCHUYUN      248    Santos   Panamax   Panamax (68-80k)   \n",
       "1  9658953      SAGA FANTASY      248    Santos  Supramax  Supramax (50-60k)   \n",
       "\n",
       "  unlocode  berth_id  ... days_waiting  days_at_berth country_code operation  \\\n",
       "0    BRSSZ    6184.0  ...         8.66           2.12           BR      Load   \n",
       "1    BRSSZ    6181.0  ...         0.37           2.95           BR      Load   \n",
       "\n",
       "         voyage_type  commodity commodity_value  commodity_group   volume  \\\n",
       "0  Part of Laden Leg  Raw Sugar       sugar_raw         Agribulk  74800.0   \n",
       "1  Part of Laden Leg       Corn            corn           Grains  47000.0   \n",
       "\n",
       "   port_visited  \n",
       "0          True  \n",
       "1          True  \n",
       "\n",
       "[2 rows x 28 columns]"
      ]
     },
     "execution_count": 10,
     "metadata": {},
     "output_type": "execute_result"
    }
   ],
   "source": [
    "# We apply filters to our query to get the list of vessels that have called the port of Santos in the last year\n",
    "# A complete list of available filters can be found at https://python-sdk.oceanbolt.com/portcalls_v3/port_calls.html#arguments\n",
    "\n",
    "df = port_call_client.get(\n",
    "    port_id = [248], #Port ID can can be obtained from Port Flows module in the Oceanbolt App (https://app.oceanbolt.com/port-tradeflows) or from the ports endpoint\n",
    "    start_date=date(2020, 1, 1),\n",
    "    end_date=date(2020, 6, 30),\n",
    "    max_results = 20000 #Increasing max results to 20k. The default setting is 100.\n",
    ")\n",
    "\n",
    "#Print 2 first rows of table\n",
    "df.head(2)"
   ]
  },
  {
   "cell_type": "code",
   "execution_count": 13,
   "metadata": {},
   "outputs": [],
   "source": [
    "#We are manipulating the arrived_at date filter to create a new column time_formatted that contains the number of the month when a vessel arrived to Santos \n",
    "date_format = \"%Y-%m-%dT%H:%M:%SZ\"\n",
    "df[\"time_formatted\"] = \"\"\n",
    "for i in range(len(df)): \n",
    "        month = datetime.strptime(df['arrived_at'][i], date_format).month\n",
    "        df.loc[i,\"time_formatted\"] = month"
   ]
  },
  {
   "cell_type": "code",
   "execution_count": 17,
   "metadata": {},
   "outputs": [
    {
     "data": {
      "text/plain": [
       "<AxesSubplot:>"
      ]
     },
     "execution_count": 17,
     "metadata": {},
     "output_type": "execute_result"
    },
    {
     "data": {
      "image/png": "[encoded data removed]",
      "text/plain": [
       "<Figure size 432x288 with 1 Axes>"
      ]
     },
     "metadata": {
      "needs_background": "light"
     },
     "output_type": "display_data"
    }
   ],
   "source": [
    "#With the time_formatted colum, we can now plot the number of port calls per month\n",
    "df['time_formatted'].hist(bins=6)\n",
    "#This example is an illustration only. Rather than doing this data manipulation yourself, try our port call timeseries client (https://python-sdk.oceanbolt.com/portcalls_v3/timeseries.html)"
   ]
  }
 ],
 "metadata": {
  "kernelspec": {
   "display_name": "Python 3",
   "language": "python",
   "name": "python3"
  },
  "language_info": {
   "codemirror_mode": {
    "name": "ipython",
    "version": 3
   },
   "file_extension": ".py",
   "mimetype": "text/x-python",
   "name": "python",
   "nbconvert_exporter": "python",
   "pygments_lexer": "ipython3",
   "version": "3.9.1"
  }
 },
 "nbformat": 4,
 "nbformat_minor": 4
}
