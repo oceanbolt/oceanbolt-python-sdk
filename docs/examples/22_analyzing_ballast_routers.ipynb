{
 "cells": [
  {
   "cell_type": "markdown",
   "id": "d0667f59",
   "metadata": {},
   "source": [
    "## Oceanbolt Python SDK Lesson 7: Analyzing ballast legs\n",
    "\n",
    "The shipping industry faces increasing pressure to minimize emissions. While much effort goes into understanding how to minimize emissions for the laden part of a voyage, this example will focus on understanding the ballast leg of a voyage. Due to the nature of natural endowments and trading patterns, ballasting legs are often a culprit of emissions that is ignored. We will not quantify any emissions data in this example, but purely surface insights of which routes are typical ballast legs for speficic ports.\n",
    "\n",
    "This exercise can be done easily using the Oceanbolt Python SDK. The example here serve as Lesson 7 is  in our Python learning series. You can find past lessons on our blog: https://www.oceanbolt.com/blog/."
   ]
  },
  {
   "cell_type": "code",
   "execution_count": 1,
   "id": "69a685c9",
   "metadata": {},
   "outputs": [],
   "source": [
    "# Let's import the relevant libraries\n",
    "import pandas as pd\n",
    "from oceanbolt.sdk.client import APIClient\n",
    "from oceanbolt.sdk.data.trade_flows import TradeFlows\n",
    "from oceanbolt.sdk.distance import DistanceCalculator\n",
    "from datetime import date\n",
    "import numpy as np"
   ]
  },
  {
   "cell_type": "code",
   "execution_count": 2,
   "id": "672655c4",
   "metadata": {},
   "outputs": [],
   "source": [
    "# Set OB base client\n",
    "base_client = APIClient(\"<your_token>\")"
   ]
  },
  {
   "cell_type": "code",
   "execution_count": 3,
   "id": "026db97b",
   "metadata": {},
   "outputs": [],
   "source": [
    "# define parameters we will use\n",
    "port_unlocode = \"GNKMR\" # UN/LOCODE for Santos\n",
    "# include other parameters here to explore specific segments, commodity groups, regions, etc."
   ]
  },
  {
   "cell_type": "code",
   "execution_count": 4,
   "id": "b5e7dd25",
   "metadata": {
    "scrolled": true
   },
   "outputs": [],
   "source": [
    "# Create tradeflow table\n",
    "df_segment = TradeFlows(base_client).get(\n",
    "        load_port_unlocode=[port_unlocode],\n",
    "        start_date=date(2015, 1, 1),\n",
    "        end_date=date(2022, 1, 25),\n",
    "        max_results = 20000,\n",
    "        exclude_intra_country = True,\n",
    "    )"
   ]
  },
  {
   "cell_type": "code",
   "execution_count": 5,
   "id": "43673233",
   "metadata": {},
   "outputs": [],
   "source": [
    "# create trade lane column\n",
    "df_segment['ballast_lane'] = df_segment['ballast_port_name'] + ' --> ' + df_segment['load_port_name']"
   ]
  },
  {
   "cell_type": "code",
   "execution_count": 6,
   "id": "da495416",
   "metadata": {
    "scrolled": true
   },
   "outputs": [],
   "source": [
    "#pivot trade flow table\n",
    "segment_pivot = pd.pivot_table(df_segment, values='volume', index=['ballast_lane'], aggfunc=np.count_nonzero)"
   ]
  },
  {
   "cell_type": "code",
   "execution_count": 7,
   "id": "ce2e6fff",
   "metadata": {},
   "outputs": [
    {
     "data": {
      "text/html": [
       "<div>\n",
       "<style scoped>\n",
       "    .dataframe tbody tr th:only-of-type {\n",
       "        vertical-align: middle;\n",
       "    }\n",
       "\n",
       "    .dataframe tbody tr th {\n",
       "        vertical-align: top;\n",
       "    }\n",
       "\n",
       "    .dataframe thead th {\n",
       "        text-align: right;\n",
       "    }\n",
       "</style>\n",
       "<table border=\"1\" class=\"dataframe\">\n",
       "  <thead>\n",
       "    <tr style=\"text-align: right;\">\n",
       "      <th></th>\n",
       "      <th>ballast_voyage_count</th>\n",
       "    </tr>\n",
       "    <tr>\n",
       "      <th>ballast_lane</th>\n",
       "      <th></th>\n",
       "    </tr>\n",
       "  </thead>\n",
       "  <tbody>\n",
       "    <tr>\n",
       "      <th>Yantai --&gt; Port Kamsar</th>\n",
       "      <td>474</td>\n",
       "    </tr>\n",
       "    <tr>\n",
       "      <th>Jorf Lasfar --&gt; Port Kamsar</th>\n",
       "      <td>219</td>\n",
       "    </tr>\n",
       "    <tr>\n",
       "      <th>Longkou --&gt; Port Kamsar</th>\n",
       "      <td>177</td>\n",
       "    </tr>\n",
       "    <tr>\n",
       "      <th>San Ciprian --&gt; Port Kamsar</th>\n",
       "      <td>98</td>\n",
       "    </tr>\n",
       "    <tr>\n",
       "      <th>Qingdao --&gt; Port Kamsar</th>\n",
       "      <td>67</td>\n",
       "    </tr>\n",
       "    <tr>\n",
       "      <th>Taranto --&gt; Port Kamsar</th>\n",
       "      <td>64</td>\n",
       "    </tr>\n",
       "    <tr>\n",
       "      <th>Rizhao --&gt; Port Kamsar</th>\n",
       "      <td>58</td>\n",
       "    </tr>\n",
       "    <tr>\n",
       "      <th>Fos Sur Mer --&gt; Port Kamsar</th>\n",
       "      <td>55</td>\n",
       "    </tr>\n",
       "    <tr>\n",
       "      <th>Caofeidian --&gt; Port Kamsar</th>\n",
       "      <td>54</td>\n",
       "    </tr>\n",
       "    <tr>\n",
       "      <th>Civitavecchia --&gt; Port Kamsar</th>\n",
       "      <td>54</td>\n",
       "    </tr>\n",
       "  </tbody>\n",
       "</table>\n",
       "</div>"
      ],
      "text/plain": [
       "                               ballast_voyage_count\n",
       "ballast_lane                                       \n",
       "Yantai --> Port Kamsar                          474\n",
       "Jorf Lasfar --> Port Kamsar                     219\n",
       "Longkou --> Port Kamsar                         177\n",
       "San Ciprian --> Port Kamsar                      98\n",
       "Qingdao --> Port Kamsar                          67\n",
       "Taranto --> Port Kamsar                          64\n",
       "Rizhao --> Port Kamsar                           58\n",
       "Fos Sur Mer --> Port Kamsar                      55\n",
       "Caofeidian --> Port Kamsar                       54\n",
       "Civitavecchia --> Port Kamsar                    54"
      ]
     },
     "execution_count": 7,
     "metadata": {},
     "output_type": "execute_result"
    }
   ],
   "source": [
    "# sort data by largest to smallest\n",
    "df_sorted = segment_pivot.sort_values(by=['volume'], ascending=False)\n",
    "df_sorted_renamed = df_sorted.rename({'volume': 'ballast_voyage_count'}, axis=1)\n",
    "df_sorted_renamed.head(10)"
   ]
  },
  {
   "cell_type": "code",
   "execution_count": 8,
   "id": "3ecc0ce5",
   "metadata": {},
   "outputs": [
    {
     "data": {
      "text/plain": [
       "'4,519,948'"
      ]
     },
     "execution_count": 8,
     "metadata": {},
     "output_type": "execute_result"
    }
   ],
   "source": [
    "# Let us calculate the total nautical ballast miles for the Yantai --> Port Kamsar route using Oceanbolt's distance calculator\n",
    "port_to_port_distance = DistanceCalculator(base_client).distance(\n",
    "    locations=[\n",
    "        {\"unlocode\": \"CNYAT\"},\n",
    "        {\"unlocode\": \"GNKMR\"},\n",
    "    ]\n",
    ")\n",
    "\n",
    "cumulative_distance = df_sorted_renamed['ballast_voyage_count'][0] * port_to_port_distance\n",
    "\n",
    "'{0:,}'.format(round(cumulative_distance))"
   ]
  },
  {
   "cell_type": "markdown",
   "id": "e1e60afb",
   "metadata": {},
   "source": [
    "We therefore have that for the 474 ballast voyages from Yantai to Port Kamsar a total of 4.5 million nautical miles have been sailed in ballast since 2015."
   ]
  }
 ],
 "metadata": {
  "kernelspec": {
   "display_name": "Python 3 (ipykernel)",
   "language": "python",
   "name": "python3"
  },
  "language_info": {
   "codemirror_mode": {
    "name": "ipython",
    "version": 3
   },
   "file_extension": ".py",
   "mimetype": "text/x-python",
   "name": "python",
   "nbconvert_exporter": "python",
   "pygments_lexer": "ipython3",
   "version": "3.9.7"
  }
 },
 "nbformat": 4,
 "nbformat_minor": 5
}
