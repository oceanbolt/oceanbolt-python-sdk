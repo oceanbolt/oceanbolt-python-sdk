{
 "cells": [
  {
   "cell_type": "markdown",
   "metadata": {},
   "source": [
    "## Oceanbolt Python SDK Lesson 1: Fleet Utilization\n",
    "\n",
    "This is the first lesson in our learning series for the Oceanbolt Python SDK.\n",
    "\n",
    "In this example, we are investigating fleet utilization for the Panamax fleet in 2020, applying two different methodologies for fleet utilization.\n",
    "\n",
    "You can find an article with more context around the methodologies on our blog: https://www.oceanbolt.com/blog/"
   ]
  },
  {
   "cell_type": "code",
   "execution_count": 1,
   "metadata": {},
   "outputs": [],
   "source": [
    "# Import the relevant libraries\n",
    "# In order to be able to calculate fleet utilization we use the TonnageZoneTimeseries client and the TradeFlowTimeseries client.\n",
    "\n",
    "from oceanbolt.sdk.client import APIClient\n",
    "from oceanbolt.sdk.data.tonnage import TonnageZoneTimeseries\n",
    "from oceanbolt.sdk.data.trade_flows import TradeFlowTimeseries\n",
    "from datetime import date\n",
    "import pandas as pd"
   ]
  },
  {
   "cell_type": "code",
   "execution_count": 65,
   "metadata": {},
   "outputs": [],
   "source": [
    "# Create the base API client using your token. Tokens can be created in the Oceanbolt App (app.oceanbolt.com)\n",
    "base_client = APIClient(\"<token>\")"
   ]
  },
  {
   "cell_type": "code",
   "execution_count": 67,
   "metadata": {},
   "outputs": [],
   "source": [
    "# Connect to the relevant Oceanbolt data endpoints using the base client object, ie: TonnageZoneTimeseries and TradeFlowTimeseries\n",
    "tonnage_zone_client = TonnageZoneTimeseries(base_client)\n",
    "trade_flow_client = TradeFlowTimeseries(base_client)"
   ]
  },
  {
   "cell_type": "markdown",
   "metadata": {},
   "source": [
    "### Methodology 1: Ton-Days Demand / Supply"
   ]
  },
  {
   "cell_type": "code",
   "execution_count": 68,
   "metadata": {
    "scrolled": true
   },
   "outputs": [
    {
     "data": {
      "text/html": [
       "<div>\n",
       "<style scoped>\n",
       "    .dataframe tbody tr th:only-of-type {\n",
       "        vertical-align: middle;\n",
       "    }\n",
       "\n",
       "    .dataframe tbody tr th {\n",
       "        vertical-align: top;\n",
       "    }\n",
       "\n",
       "    .dataframe thead th {\n",
       "        text-align: right;\n",
       "    }\n",
       "</style>\n",
       "<table border=\"1\" class=\"dataframe\">\n",
       "  <thead>\n",
       "    <tr style=\"text-align: right;\">\n",
       "      <th></th>\n",
       "      <th>date</th>\n",
       "      <th>vessel_count</th>\n",
       "      <th>vessel_dwt</th>\n",
       "    </tr>\n",
       "  </thead>\n",
       "  <tbody>\n",
       "    <tr>\n",
       "      <th>0</th>\n",
       "      <td>2020-01-01</td>\n",
       "      <td>1161</td>\n",
       "      <td>87319872.0</td>\n",
       "    </tr>\n",
       "  </tbody>\n",
       "</table>\n",
       "</div>"
      ],
      "text/plain": [
       "         date  vessel_count  vessel_dwt\n",
       "0  2020-01-01          1161  87319872.0"
      ]
     },
     "execution_count": 68,
     "metadata": {},
     "output_type": "execute_result"
    }
   ],
   "source": [
    "# We start by getting the panamax fleet count and volume on a daily basis (we will need the daily granularity later).\n",
    "df1 = tonnage_zone_client.get(\n",
    "    sub_segment=['panamax'], #We select the vessel sub-segment of Panamaxes in DWT68k-80k. A list of all available segments can be achieved by calling our Segments Entities API (https://python-sdk.oceanbolt.com/entities_v3/segments.html).\n",
    "    start_date=date(2020, 1, 1), \n",
    "    end_date=date(2020, 12, 31),  \n",
    ")\n",
    "\n",
    "#Print 1 first rows of table\n",
    "df1.head(1)"
   ]
  },
  {
   "cell_type": "code",
   "execution_count": 77,
   "metadata": {},
   "outputs": [
    {
     "data": {
      "text/plain": [
       "31860280700.0"
      ]
     },
     "execution_count": 77,
     "metadata": {},
     "output_type": "execute_result"
    }
   ],
   "source": [
    "# To convert the fleet into available capacity, we need to apply a standard duration for a panamax voyage. \n",
    "# Here we run into an issue of creating a daily timeseries it would require us to layer in additional assumptions. \n",
    "# To circumvent this, we aggregate available tonnage to an annual figure in Ton-Days. \n",
    "# We calculate the average tonnage and multiply by 366 days (number of days in 2020) in order get the theoretical maximum utilization of vessels (i.e. in fully laden condition every day of the day). Yes, this is unrealistic.\n",
    "\n",
    "total_panamax_capacity = df1['vessel_dwt'].mean(axis=0)*366\n",
    "total_panamax_capacity"
   ]
  },
  {
   "cell_type": "code",
   "execution_count": 81,
   "metadata": {
    "scrolled": true
   },
   "outputs": [
    {
     "data": {
      "text/plain": [
       "0    0.605537\n",
       "Name: value, dtype: float64"
      ]
     },
     "execution_count": 81,
     "metadata": {},
     "output_type": "execute_result"
    }
   ],
   "source": [
    "# The 31,860,280,700 ton-days is our supply assuming that all vessels are fully employed everyday (it is arguably a very unreasonable assumption). \n",
    "# Next for ton-days demand we get the emperically observed volume x duration metric. \n",
    "df_1_2 = trade_flow_client.get(\n",
    "    frequency = \"yearly\", #Specify frequency, in our case we want daily flows\n",
    "    metric = \"volume_times_duration\", #Specify the metric to get ton-days demand\n",
    "    sub_segment=['panamax'],\n",
    "    start_date=date(2020, 1, 1), \n",
    "    end_date=date(2020, 12, 31),\n",
    ")\n",
    "df_1_2['value']/total_panamax_capacity"
   ]
  },
  {
   "cell_type": "markdown",
   "metadata": {},
   "source": [
    "So according to this metric, the Panamax fleet was only 61% employed during 2020. It is hard to believe, but we also made a strong (and unreasonable) assumption on the supply of vessels. We are not really happy with this result. Let us see if we can do better.\n",
    "\n",
    "We turn to another metric for calculating fleet utilization, namely the \"employed vessels\" metric. While crude in its economic rationale, it offers the advantages of being simple to calculate, easy to understand and most importantly offers the ability to create a daily timeseries without making any additional assumptions. \n",
    "\n",
    "The the \"employed vessels\" methodology simply counts the total number of vessels ballasting at sea (making a crude assumption that these vessels are not employed) and measures this tonnage as the available tonnage. Utilization thus becomes employed tonnage divided by total tonnage."
   ]
  },
  {
   "cell_type": "markdown",
   "metadata": {},
   "source": [
    "### Methodology 2: Employed vessels"
   ]
  },
  {
   "cell_type": "code",
   "execution_count": 92,
   "metadata": {},
   "outputs": [
    {
     "data": {
      "text/html": [
       "<div>\n",
       "<style scoped>\n",
       "    .dataframe tbody tr th:only-of-type {\n",
       "        vertical-align: middle;\n",
       "    }\n",
       "\n",
       "    .dataframe tbody tr th {\n",
       "        vertical-align: top;\n",
       "    }\n",
       "\n",
       "    .dataframe thead th {\n",
       "        text-align: right;\n",
       "    }\n",
       "</style>\n",
       "<table border=\"1\" class=\"dataframe\">\n",
       "  <thead>\n",
       "    <tr style=\"text-align: right;\">\n",
       "      <th></th>\n",
       "      <th>date</th>\n",
       "      <th>vessel_count</th>\n",
       "      <th>vessel_dwt</th>\n",
       "    </tr>\n",
       "  </thead>\n",
       "  <tbody>\n",
       "    <tr>\n",
       "      <th>0</th>\n",
       "      <td>2020-01-01</td>\n",
       "      <td>189</td>\n",
       "      <td>14253705.0</td>\n",
       "    </tr>\n",
       "  </tbody>\n",
       "</table>\n",
       "</div>"
      ],
      "text/plain": [
       "         date  vessel_count  vessel_dwt\n",
       "0  2020-01-01           189  14253705.0"
      ]
     },
     "execution_count": 92,
     "metadata": {},
     "output_type": "execute_result"
    }
   ],
   "source": [
    "# We apply filters to our query to get the time series of ballasting Panamax vessels\n",
    "# A complete list of available filters can be found at https://python-sdk.oceanbolt.com/tonnage_v3/zone_count.html#arguments\n",
    "\n",
    "df2 = tonnage_zone_client.get(\n",
    "    sub_segment=['panamax'], # We select Panamax vessels\n",
    "    laden_status=[\"ballast\"], # We select Panamax vessels that are ballasting\n",
    "    port_status=[\"at_sea\"], # We select Panamax vessels that are ballasting at sea\n",
    "    start_date=date(2020, 1, 1), \n",
    "    end_date=date(2020, 12, 31),  \n",
    ")\n",
    "\n",
    "#Print the first rows of table\n",
    "df2.head(1)"
   ]
  },
  {
   "cell_type": "code",
   "execution_count": 114,
   "metadata": {},
   "outputs": [
    {
     "data": {
      "text/plain": [
       "<AxesSubplot:title={'center':'Oceanbolt 2020 Panamax Fleet Utilzation'}, xlabel='date'>"
      ]
     },
     "execution_count": 114,
     "metadata": {},
     "output_type": "execute_result"
    },
    {
     "data": {
      "image/png": "[encoded data removed]",
      "text/plain": [
       "<Figure size 720x360 with 1 Axes>"
      ]
     },
     "metadata": {
      "needs_background": "light"
     },
     "output_type": "display_data"
    }
   ],
   "source": [
    "# We have already fetched the timeseries of total Panamaxes and their tonnage. We use this to calculate the daily utilization\n",
    "\n",
    "df3 = pd.DataFrame(1-df2['vessel_dwt']/df1['vessel_dwt'])\n",
    "df3['date'] = df1['date']\n",
    "df3.plot(x='date', figsize=(10,5), title='Oceanbolt 2020 Panamax Fleet Utilzation', legend=False)"
   ]
  },
  {
   "cell_type": "markdown",
   "metadata": {},
   "source": [
    "We have a daily timeseries! Yay!\n",
    "\n",
    "Now what? The question that is on everyone's mind is probably: \"Does fleet utilization correlate with freight rates?\"\n",
    "\n",
    "We might do a full deep-dive on how to compared this metric to rates by building a simple machine learning model. But for now we will leave it to practitioners to complete this exercise."
   ]
  },
  {
   "cell_type": "code",
   "execution_count": 110,
   "metadata": {
    "scrolled": true
   },
   "outputs": [
    {
     "data": {
      "text/plain": [
       "0.801"
      ]
     },
     "execution_count": 110,
     "metadata": {},
     "output_type": "execute_result"
    }
   ],
   "source": [
    "# Let us check if we get a more realistice annual utilization figure for the Panamax fleet.\n",
    "df3['vessel_dwt'].mean(axis=0).round(3)"
   ]
  },
  {
   "cell_type": "markdown",
   "metadata": {},
   "source": [
    "By using the employed vessels methodology, we get 80% utilization for the Panamax fleet in 2020.\n",
    "\n",
    "Thanks for reading this! If you are interesting in getting access to our data, sign up for a product demo on https://www.oceanbolt.com/demo/"
   ]
  }
 ],
 "metadata": {
  "kernelspec": {
   "display_name": "Python 3",
   "language": "python",
   "name": "python3"
  },
  "language_info": {
   "codemirror_mode": {
    "name": "ipython",
    "version": 3
   },
   "file_extension": ".py",
   "mimetype": "text/x-python",
   "name": "python",
   "nbconvert_exporter": "python",
   "pygments_lexer": "ipython3",
   "version": "3.9.1"
  }
 },
 "nbformat": 4,
 "nbformat_minor": 4
}
